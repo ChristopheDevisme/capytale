{
 "cells": [
  {
   "cell_type": "markdown",
   "metadata": {},
   "source": [
    "# Les bases pour rédiger un notebook\n",
    "\n",
    "Pour proposer une présentation améliorée de votre notebook, vous pouvez utiliser le langage de balisage léger \n",
    "nommé [https://fr.wikipedia.org/wiki/Markdown](**markdown**).\n",
    "\n",
    "Il suffit pour cela de créer une cellule avec le bouton `+` ci-dessus puis dérouler le menu et choisir `markdown` plutôt que `code`. Vous pouvez alors rédiger du texte mis en forme pour présenter, par exemple la cellule suivante qui contiendra du code Python.\n",
    "\n",
    "---\n",
    "\n",
    "---"
   ]
  },
  {
   "cell_type": "markdown",
   "metadata": {},
   "source": [
    "`# Un titre`\n",
    "    \n",
    "# Un titre\n",
    "\n",
    "`## Un sous-titre`\n",
    " \n",
    "## Un sous-titre\n",
    "\n",
    "`### Un sous-sous-titre`\n",
    " \n",
    "### Un sous-sous-titre\n",
    "\n",
    "Et ainsi de suite...\n",
    "\n",
    "***"
   ]
  },
  {
   "cell_type": "markdown",
   "metadata": {},
   "source": [
    "`On peut écrire en **gras** ou en *italique*`\n",
    "\n",
    "On peut écrire en **gras** ou en *italique*\n",
    "\n",
    "***"
   ]
  },
  {
   "cell_type": "markdown",
   "metadata": {},
   "source": [
    "`On peut écrire des math dans le texte $x \\in \\mathbb{R}$ avec LaTeX ou une formule centrée :\n",
    "$$ \\sum_{k=1}^\\infty 1/k^2 =\\frac{\\pi^2}{6} $$`\n",
    "\n",
    "On peut écrire des math dans le texte $x \\in \\mathbb{R}$ avec LaTeX ou une formule centrée :\n",
    "$$ \\sum_{k=1}^\\infty 1/k^2 =\\frac{\\pi^2}{6} $$\n",
    "\n",
    "***"
   ]
  },
  {
   "cell_type": "markdown",
   "metadata": {},
   "source": [
    "```\n",
    "On peut faire des listes\n",
    "- à puces\n",
    "- très simplement\n",
    "- et sans effort```\n",
    "\n",
    "On peut faire des listes\n",
    "- à puces\n",
    "- très simplement\n",
    "- et sans effort\n",
    "\n",
    "***"
   ]
  },
  {
   "cell_type": "markdown",
   "metadata": {},
   "source": [
    "```\n",
    "On peut faire des listes\n",
    "1. numérotées\n",
    "1. très simplement\n",
    "1. et sans effort```\n",
    "\n",
    "On peut faire des listes\n",
    "1. numérotées\n",
    "1. très simplement\n",
    "1. et sans effort\n",
    "\n",
    "***"
   ]
  },
  {
   "cell_type": "markdown",
   "metadata": {},
   "source": [
    "```\n",
    "Ou encore des listes \n",
    "\n",
    "1. numérotées\n",
    "    - avec une sous-liste\n",
    "    - à puces\n",
    "1. très simplement\n",
    "1. et sans effort```\n",
    "\n",
    "\n",
    "Ou encore des listes \n",
    "\n",
    "1. numérotées\n",
    "    - avec une sous-liste\n",
    "    - à puces\n",
    "1. très simplement\n",
    "1. et sans effort\n",
    "\n",
    "***"
   ]
  },
  {
   "cell_type": "markdown",
   "metadata": {},
   "source": [
    "```\n",
    "Les tableaux aussi sont possibles : \n",
    "\n",
    "| Cellule A1 | Cellule B1 | Cellule C1 | \n",
    "|------------|-----|--------|\n",
    "| Cell A2 | Cell B2 | Cell C2 | \n",
    "| A3 | B3 | C3 | \n",
    "| A4 | B4 | C4 | \n",
    "| A5 | B5 | C5 | ```\n",
    "\n",
    "Les tableaux aussi sont possibles : \n",
    "\n",
    "| Cellule A1 | Cellule B1 | Cellule C1 | \n",
    "|------------|-----|--------|\n",
    "| Cell A2 | Cell B2 | Cell C2 | \n",
    "| A3 | B3 | C3 | \n",
    "| A4 | B4 | C4 | \n",
    "| A5 | B5 | C5 | "
   ]
  }
 ],
 "metadata": {
  "kernelspec": {
   "display_name": "Python 3",
   "language": "python",
   "name": "python3"
  },
  "language_info": {
   "codemirror_mode": {
    "name": "ipython",
    "version": 3
   },
   "file_extension": ".py",
   "mimetype": "text/x-python",
   "name": "python",
   "nbconvert_exporter": "python",
   "pygments_lexer": "ipython3",
   "version": "3.6.9"
  }
 },
 "nbformat": 4,
 "nbformat_minor": 2
}
