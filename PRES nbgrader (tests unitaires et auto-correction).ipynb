{
 "cells": [
  {
   "cell_type": "code",
   "execution_count": 1,
   "metadata": {},
   "outputs": [],
   "source": [
    "import requests\n",
    "url = 'https://capytale.ac-paris.fr/pj/75/nicolas.poulain2/corrections.py'\n",
    "r = requests.get(url)\n",
    "open('corr.py', 'wb').write(r.content)\n",
    "from corr import exo_isEven, exo_thecarre"
   ]
  },
  {
   "cell_type": "code",
   "execution_count": 2,
   "metadata": {},
   "outputs": [],
   "source": [
    "def estPair(x):\n",
    "    return x%2==0"
   ]
  },
  {
   "cell_type": "code",
   "execution_count": 3,
   "metadata": {},
   "outputs": [
    {
     "data": {
      "text/html": [
       "<table style='font-family:monospace;font-size:small;'><tr style='font-family:monospace;font-size:medium;'><th style='text-align: center;'><pre>Appel</pre></th><th style='text-align: center;'><pre>Attendu</pre></th><th style='text-align: center;'><pre>Obtenu</pre></th><th style='text-align: center;'><pre></pre></th></tr><tr style='background-color:#d6e9ce;border-bottom:2px solid gray;'><td><pre>isEven(1)</pre></td><td style='text-align: left;border-left:3px solid gray;'><pre>\n",
       "False</pre></td><td style='text-align: left;border-left:1px solid gray;'><pre>\n",
       "False</pre></td><td style='border-left:3px solid gray;'><pre>OK</pre></td></tr><tr style='background-color:#d6e9ce;border-bottom:2px solid gray;'><td><pre>isEven(2)</pre></td><td style='text-align: left;border-left:3px solid gray;'><pre>\n",
       "True</pre></td><td style='text-align: left;border-left:1px solid gray;'><pre>\n",
       "True</pre></td><td style='border-left:3px solid gray;'><pre>OK</pre></td></tr><tr style='background-color:#d6e9ce;border-bottom:2px solid gray;'><td><pre>isEven(3)</pre></td><td style='text-align: left;border-left:3px solid gray;'><pre>\n",
       "False</pre></td><td style='text-align: left;border-left:1px solid gray;'><pre>\n",
       "False</pre></td><td style='border-left:3px solid gray;'><pre>OK</pre></td></tr><tr style='background-color:#d6e9ce;border-bottom:2px solid gray;'><td><pre>isEven(8)</pre></td><td style='text-align: left;border-left:3px solid gray;'><pre>\n",
       "True</pre></td><td style='text-align: left;border-left:1px solid gray;'><pre>\n",
       "True</pre></td><td style='border-left:3px solid gray;'><pre>OK</pre></td></tr><tr style='background-color:#d6e9ce;border-bottom:2px solid gray;'><td><pre>isEven(17)</pre></td><td style='text-align: left;border-left:3px solid gray;'><pre>\n",
       "False</pre></td><td style='text-align: left;border-left:1px solid gray;'><pre>\n",
       "False</pre></td><td style='border-left:3px solid gray;'><pre>OK</pre></td></tr><tr style='background-color:#d6e9ce;border-bottom:2px solid gray;'><td><pre>isEven(1001)</pre></td><td style='text-align: left;border-left:3px solid gray;'><pre>\n",
       "False</pre></td><td style='text-align: left;border-left:1px solid gray;'><pre>\n",
       "False</pre></td><td style='border-left:3px solid gray;'><pre>OK</pre></td></tr></table>"
      ],
      "text/plain": [
       "<IPython.core.display.HTML object>"
      ]
     },
     "execution_count": 3,
     "metadata": {},
     "output_type": "execute_result"
    }
   ],
   "source": [
    "exo_isEven.correction(estPair)"
   ]
  },
  {
   "cell_type": "code",
   "execution_count": 4,
   "metadata": {},
   "outputs": [],
   "source": [
    "def carre(x):\n",
    "    return x"
   ]
  },
  {
   "cell_type": "code",
   "execution_count": 5,
   "metadata": {},
   "outputs": [
    {
     "data": {
      "text/html": [
       "<table style='font-family:monospace;font-size:small;'><tr style='font-family:monospace;font-size:medium;'><th style='text-align: center;'><pre>Appel</pre></th><th style='text-align: center;'><pre>Attendu</pre></th><th style='text-align: center;'><pre>Obtenu</pre></th><th style='text-align: center;'><pre></pre></th></tr><tr style='background-color:#efd6d6;border-bottom:2px solid gray;'><td><pre>thecarre(-2)</pre></td><td style='text-align: left;border-left:3px solid gray;'><pre>\n",
       "4</pre></td><td style='text-align: left;border-left:1px solid gray;'><pre>\n",
       "-2</pre></td><td style='border-left:3px solid gray;'><pre>KO</pre></td></tr><tr style='background-color:#d6e9ce;border-bottom:2px solid gray;'><td><pre>thecarre(0)</pre></td><td style='text-align: left;border-left:3px solid gray;'><pre>\n",
       "0</pre></td><td style='text-align: left;border-left:1px solid gray;'><pre>\n",
       "0</pre></td><td style='border-left:3px solid gray;'><pre>OK</pre></td></tr><tr style='background-color:#d6e9ce;border-bottom:2px solid gray;'><td><pre>thecarre(1)</pre></td><td style='text-align: left;border-left:3px solid gray;'><pre>\n",
       "1</pre></td><td style='text-align: left;border-left:1px solid gray;'><pre>\n",
       "1</pre></td><td style='border-left:3px solid gray;'><pre>OK</pre></td></tr><tr style='background-color:#efd6d6;border-bottom:2px solid gray;'><td><pre>thecarre(1.5)</pre></td><td style='text-align: left;border-left:3px solid gray;'><pre>\n",
       "2.25</pre></td><td style='text-align: left;border-left:1px solid gray;'><pre>\n",
       "1.5</pre></td><td style='border-left:3px solid gray;'><pre>KO</pre></td></tr><tr style='background-color:#efd6d6;border-bottom:2px solid gray;'><td><pre>thecarre(17)</pre></td><td style='text-align: left;border-left:3px solid gray;'><pre>\n",
       "289</pre></td><td style='text-align: left;border-left:1px solid gray;'><pre>\n",
       "17</pre></td><td style='border-left:3px solid gray;'><pre>KO</pre></td></tr></table>"
      ],
      "text/plain": [
       "<IPython.core.display.HTML object>"
      ]
     },
     "execution_count": 5,
     "metadata": {},
     "output_type": "execute_result"
    }
   ],
   "source": [
    "exo_thecarre.correction(carre)"
   ]
  },
  {
   "cell_type": "code",
   "execution_count": null,
   "metadata": {},
   "outputs": [],
   "source": []
  }
 ],
 "metadata": {
  "kernelspec": {
   "display_name": "Python 3",
   "language": "python",
   "name": "python3"
  },
  "language_info": {
   "codemirror_mode": {
    "name": "ipython",
    "version": 3
   },
   "file_extension": ".py",
   "mimetype": "text/x-python",
   "name": "python",
   "nbconvert_exporter": "python",
   "pygments_lexer": "ipython3",
   "version": "3.6.9"
  }
 },
 "nbformat": 4,
 "nbformat_minor": 2
}
